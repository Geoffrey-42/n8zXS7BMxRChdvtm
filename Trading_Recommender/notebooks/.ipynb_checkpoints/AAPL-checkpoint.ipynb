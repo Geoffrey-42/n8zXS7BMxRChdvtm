{
 "cells": [
  {
   "cell_type": "markdown",
   "id": "8b7fcbdd-668b-4c64-b4a5-0f6643dc1825",
   "metadata": {},
   "source": [
    "# __Apple stock price forecasting (AAPL)__"
   ]
  },
  {
   "cell_type": "markdown",
   "id": "81750d26-9224-43ab-bef8-60d9346b7e5b",
   "metadata": {},
   "source": [
    "Set working directory to Trading_Recommender folder"
   ]
  },
  {
   "cell_type": "code",
   "execution_count": 1,
   "id": "4fd235d5-04b4-42ab-a3ba-d34b692d486d",
   "metadata": {},
   "outputs": [],
   "source": [
    "import os\n",
    "os.chdir(os.path.abspath(os.path.join(os.getcwd(), os.pardir)))\n",
    "import warnings\n",
    "warnings.simplefilter(action='ignore', category=FutureWarning)"
   ]
  },
  {
   "cell_type": "markdown",
   "id": "772a5b5d-7153-4759-899c-1ee431c0c426",
   "metadata": {},
   "source": [
    "import statements"
   ]
  },
  {
   "cell_type": "code",
   "execution_count": 2,
   "id": "36223f66-4195-4e78-a19b-7f7862011ac2",
   "metadata": {},
   "outputs": [
    {
     "name": "stdout",
     "output_type": "stream",
     "text": [
      "Invoking __init__.py for src\n",
      "Invoking __init__.py for src.data\n",
      "Invoking __init__.py for src.models\n",
      "Invoking __init__.py for src.models.LSTM_files\n",
      "Invoking __init__.py for src.forecast\n",
      "Invoking __init__.py for src.tuning\n",
      "Invoking __init__.py for src.features\n"
     ]
    }
   ],
   "source": [
    "from src.data.extract_dataset import extract_financial_data\n",
    "from src.features.extend_dataset import compute_technical_indicators, merge_dataframes, get_target\n",
    "from src.features.feature_selection import select_features, evaluate_features\n",
    "from src.features.feature_engineering import engineer_features, scale_dataframe, get_final_dataframe\n",
    "from src.forecast.forecaster import forecaster\n",
    "from src.forecast.recommender import recommender\n",
    "from src.tuning.optuna_tuning import optuna_search\n",
    "import optuna_dashboard\n",
    "from optuna.storages import JournalStorage, JournalFileStorage\n",
    "import pandas as pd\n",
    "import numpy as np\n",
    "import matplotlib.pyplot as plt\n",
    "from sklearn.ensemble import GradientBoostingRegressor\n",
    "from itertools import accumulate\n",
    "from copy import deepcopy"
   ]
  },
  {
   "cell_type": "code",
   "execution_count": 3,
   "id": "bb2d95f3-bc9e-43f6-a794-25195c2b3328",
   "metadata": {},
   "outputs": [],
   "source": [
    "stock_name = 'AAPL'"
   ]
  },
  {
   "cell_type": "markdown",
   "id": "a051740e-ee46-4cbd-a6a6-88f1483ab7e3",
   "metadata": {},
   "source": [
    "Extract the data from locally saved files. There is also an option to download stock market data from yfinance"
   ]
  },
  {
   "cell_type": "markdown",
   "id": "d406ca82-a755-482e-9d91-7e4cdb4d7a7e",
   "metadata": {},
   "source": [
    "The raw data that will be used can be classified into three categories:  \n",
    "1) Stock market data (Open, Close, High, Low, Volume)  \n",
    "2) SMIS macro-economic indicators (^IXIC, ^GSPC, DJI)  \n",
    "3) Internet trend data (googletrends, wikipediatrends)  "
   ]
  },
  {
   "cell_type": "code",
   "execution_count": 4,
   "id": "2e95bd58-860d-4015-a232-c55ba733ce40",
   "metadata": {},
   "outputs": [],
   "source": [
    "stock_dict, smis_dict, trend_dict = extract_financial_data(data_dir = 'data', \n",
    "                                                           save=False, online=False)\n",
    "stock = stock_dict[stock_name]\n",
    "close = stock[['Close']]"
   ]
  },
  {
   "cell_type": "markdown",
   "id": "cdc9abfa-35a4-432b-b71d-8eb98287eeab",
   "metadata": {},
   "source": [
    "Extend the raw features by computing a large number technical indicators using pandas-ta"
   ]
  },
  {
   "cell_type": "code",
   "execution_count": 5,
   "id": "3f0d96c0-9121-4130-a576-e9dba0898404",
   "metadata": {},
   "outputs": [],
   "source": [
    "stock_extended, smis_extended, trend_extended = compute_technical_indicators(stock,\n",
    "                                                                             deepcopy(smis_dict),\n",
    "                                                                             deepcopy(trend_dict[stock_name]))"
   ]
  },
  {
   "cell_type": "markdown",
   "id": "525e612e-075d-4138-8cb2-0e88b4430aba",
   "metadata": {},
   "source": [
    "These various types of data will now be merged into only one pandas dataframe"
   ]
  },
  {
   "cell_type": "code",
   "execution_count": 6,
   "id": "095a4d81-ba91-4262-a0a2-5bb196292d3a",
   "metadata": {},
   "outputs": [],
   "source": [
    "extended_df_withna = merge_dataframes(stock_extended, smis_extended, trend_extended)\n",
    "extended_df = extended_df_withna.dropna()"
   ]
  },
  {
   "cell_type": "markdown",
   "id": "574b7040-6985-475a-a6a3-981735030661",
   "metadata": {},
   "source": [
    "Check the number of technical features"
   ]
  },
  {
   "cell_type": "code",
   "execution_count": 7,
   "id": "ec0eee2b-14a6-4aa8-ac72-6dd0bb67082f",
   "metadata": {},
   "outputs": [
    {
     "name": "stdout",
     "output_type": "stream",
     "text": [
      "Number of features: 275\n"
     ]
    }
   ],
   "source": [
    "print(f'Number of features: {extended_df.shape[1]}')"
   ]
  },
  {
   "cell_type": "markdown",
   "id": "27be45a6-9d54-458c-b195-34654b5cbc67",
   "metadata": {},
   "source": [
    "Check the number of rows and the date range"
   ]
  },
  {
   "cell_type": "code",
   "execution_count": 8,
   "id": "d48a6122-05f7-4bc7-9d2b-c0b6aff013fa",
   "metadata": {},
   "outputs": [
    {
     "name": "stdout",
     "output_type": "stream",
     "text": [
      "Number of days: 1469\n",
      "Date Range: from 2020-04-23 00:00:00  to  2024-04-30 00:00:00\n"
     ]
    }
   ],
   "source": [
    "print(f'Number of days: {extended_df.shape[0]}\\nDate Range: from {extended_df.index[0]}  to  {extended_df.index[-1]}')"
   ]
  },
  {
   "cell_type": "markdown",
   "id": "ca305cc6-25ba-4ec1-a588-72b150d9c77c",
   "metadata": {},
   "source": [
    "Next, a feature selection will be performed using sktime.  \n",
    "This will be based on whether the selected features are informative enough to predict the binary labels y.  \n",
    "The labels indicate for each row whether the stock price will be increasing or decreasing {horizon} days into the future"
   ]
  },
  {
   "cell_type": "code",
   "execution_count": 9,
   "id": "b207a4ac-9f00-4349-b3ac-c7f5033ce97e",
   "metadata": {},
   "outputs": [],
   "source": [
    "horizon = 14 # How many days ahead do we want to forecast the stock price evolution\n",
    "target = get_target(extended_df,\n",
    "                    horizon) # This is the return defined as Close[i+horizon]/Close[i] - 1\n",
    "y = (target>0).astype(int)"
   ]
  },
  {
   "cell_type": "markdown",
   "id": "7fd86e15-2afa-4847-a212-a4a70d717a9c",
   "metadata": {},
   "source": [
    "In the next cell, a much smaller number of relevant features are selected"
   ]
  },
  {
   "cell_type": "code",
   "execution_count": 10,
   "id": "733cd82e-e9c6-44a6-b5ea-9267cba54c24",
   "metadata": {},
   "outputs": [
    {
     "name": "stdout",
     "output_type": "stream",
     "text": [
      "Using regressor = GradientBoostingRegressor(max_depth=1), only 27 features are selected\n",
      "The selected features with horizon = 14 are: \n",
      "['DPO_20', 'CKSPs_10_3_20', 'QS_10', 'J_9_3', 'ICS_26', 'PVT', 'ZS_30', 'SMIo_5_20_5', 'CKSPl_10_3_20', 'CCI_14_0.015', 'KVO_34_55_13', 'FWMA_10', 'VAR_30', 'ACCBL_20', 'RVI_14', 'TSIs_13_25_13', '^GSPC_FWMA_10', 'googletrends_Apple_news_DPO_20', 'AR_26', 'wikitrends_MacBook_ALMA_10_6.0_0.85', 'googletrends_iphone_shopping_MOM_10', 'googletrends_iphone_shopping_DPO_20', 'PVOs_12_26_9', 'googletrends_Apple_news_MOM_10', 'STOCHk_14_3_3', '^GSPC_DPO_20', 'SUPERTs_7_3.0']\n",
      "With a cumulated relative importance of 1.0000000000000002\n"
     ]
    }
   ],
   "source": [
    "regressor = GradientBoostingRegressor(max_depth=1)\n",
    "features_selected, feature_importances = select_features(extended_df,\n",
    "                                                         horizon = horizon,\n",
    "                                                         n_columns = None,\n",
    "                                                         regressor = regressor,\n",
    "                                                         importance_threshold = 0.99)\n",
    "feature_names = list(features_selected.columns)\n",
    "# Printing information about the selected features\n",
    "print(f'Using {regressor = }, only {features_selected.shape[1]} features are selected')\n",
    "print(f'The selected features with {horizon = } are: \\n{feature_names}')\n",
    "print(f'With a cumulated relative importance of {sum(map(lambda item: item[1], feature_importances))}')"
   ]
  },
  {
   "cell_type": "markdown",
   "id": "8ff68450-1b08-48bc-ae15-5faa1ab8fcc8",
   "metadata": {},
   "source": [
    "The selected features predictive power are evaluated using the Rocket(num_kernels=2000) and HIVECOTEV2(time_limit_in_minutes=0.2) classifier instances"
   ]
  },
  {
   "cell_type": "code",
   "execution_count": 11,
   "id": "86dc847c-a915-4aa6-82be-2c04eed8d3b3",
   "metadata": {},
   "outputs": [
    {
     "name": "stdout",
     "output_type": "stream",
     "text": [
      "The HIVECOTEV2 and Rocket classifiers respective accuracies using the 27 untransformed features are: (0.7068493150684931, 0.7013698630136986)\n"
     ]
    }
   ],
   "source": [
    "selected_df, _ = get_final_dataframe(features_selected,\n",
    "                                     target) # Concatenates features_selected with target named as Return, and scales the dataframe\n",
    "untransformed_result = evaluate_features(selected_df.drop(columns=['Return']), y)\n",
    "untransformed_accuracies = (untransformed_result['HIVECOTEV2_accuracy'],\n",
    "                            untransformed_result['Rocket_accuracy'])\n",
    "print(f'The HIVECOTEV2 and Rocket classifiers respective accuracies using the {features_selected.shape[1]} untransformed features are: {untransformed_accuracies}')"
   ]
  },
  {
   "cell_type": "code",
   "execution_count": 12,
   "id": "94d0e83c-6180-4c12-b017-a266691be3ee",
   "metadata": {},
   "outputs": [
    {
     "name": "stdout",
     "output_type": "stream",
     "text": [
      "Rocket_accuracy = 0.7013698630136986\n",
      "Rocket_precision = 0.5764192139737991\n",
      "Rocket_recall = 0.9166666666666666\n",
      "Rocket_specificity = 0.5610859728506787\n",
      "Rocket_f1_score = 0.707774798927614\n",
      "Rocket_confusion_matrix = [[124  97]\n",
      " [ 12 132]]\n",
      "HIVECOTEV2_accuracy = 0.7068493150684931\n",
      "HIVECOTEV2_precision = 0.5793991416309013\n",
      "HIVECOTEV2_recall = 0.9375\n",
      "HIVECOTEV2_specificity = 0.5565610859728507\n",
      "HIVECOTEV2_f1_score = 0.7161803713527852\n",
      "HIVECOTEV2_confusion_matrix = [[123  98]\n",
      " [  9 135]]\n"
     ]
    }
   ],
   "source": [
    "for key, value in untransformed_result.items():\n",
    "    print(f'{key} = {value}')"
   ]
  },
  {
   "cell_type": "markdown",
   "id": "530ed9af-028c-4e70-bc28-d925583e01e0",
   "metadata": {},
   "source": [
    "Next, the selected features are transformed using the Principal Component Analysis algorithm  \n",
    "The engineered features predictive power are evaluated using the Rocket(num_kernels=2000) and HIVECOTEV2(time_limit_in_minutes=0.2) classifier instances"
   ]
  },
  {
   "cell_type": "code",
   "execution_count": 13,
   "id": "b6a95b4a-5175-4889-9494-e04298bbe940",
   "metadata": {},
   "outputs": [
    {
     "name": "stdout",
     "output_type": "stream",
     "text": [
      "\n",
      "Only 10 features are extracted from the PCA with a total relative variance of 0.9014471218002756/1\n",
      "\n"
     ]
    },
    {
     "name": "stderr",
     "output_type": "stream",
     "text": [
      "C:\\ProgramData\\anaconda3\\Lib\\site-packages\\sktime\\classification\\dictionary_based\\_tde.py:263: UserWarning: TemporalDictionaryEnsemble warning: min_window = 10 is larger than max_window = 10. min_window has been set to 10.\n",
      "  warn(\n"
     ]
    },
    {
     "name": "stdout",
     "output_type": "stream",
     "text": [
      "The HIVECOTEV2 and Rocket classifiers respective accuracies using the 10 transformed features are: (0.7835616438356164, 0.7917808219178082)\n"
     ]
    }
   ],
   "source": [
    "variance_threshold = 0.9\n",
    "features_engineered, transformer = engineer_features(features_selected, \n",
    "                                                     variance_threshold)\n",
    "engineered_df, scalers = get_final_dataframe(features_engineered,\n",
    "                                             target) # Concatenates features_engineered with target named as Return, and scales the dataframe\n",
    "data_scaler, target_scaler = scalers\n",
    "\n",
    "transformed_result = evaluate_features(engineered_df.drop(columns=['Return']), y)\n",
    "transformed_accuracies = (transformed_result['HIVECOTEV2_accuracy'],\n",
    "                          transformed_result['Rocket_accuracy'])\n",
    "print(f'The HIVECOTEV2 and Rocket classifiers respective accuracies using the {features_engineered.shape[1]} transformed features are: {transformed_accuracies}')"
   ]
  },
  {
   "cell_type": "markdown",
   "id": "c5311e53-7006-405a-9e6e-17e59defd112",
   "metadata": {},
   "source": [
    "Despite the fact that the 10 engineered features only reflect about 92% of the variance of the original 24 selected features, the classifiers perform better with these engineered features"
   ]
  },
  {
   "cell_type": "code",
   "execution_count": 14,
   "id": "06c16395-1f77-4e75-a27d-cb4021a40d73",
   "metadata": {},
   "outputs": [
    {
     "name": "stdout",
     "output_type": "stream",
     "text": [
      "Rocket_accuracy = 0.7917808219178082\n",
      "Rocket_precision = 0.67\n",
      "Rocket_recall = 0.9305555555555556\n",
      "Rocket_specificity = 0.7013574660633484\n",
      "Rocket_f1_score = 0.7790697674418605\n",
      "Rocket_confusion_matrix = [[155  66]\n",
      " [ 10 134]]\n",
      "HIVECOTEV2_accuracy = 0.7835616438356164\n",
      "HIVECOTEV2_precision = 0.6585365853658537\n",
      "HIVECOTEV2_recall = 0.9375\n",
      "HIVECOTEV2_specificity = 0.6832579185520362\n",
      "HIVECOTEV2_f1_score = 0.7736389684813754\n",
      "HIVECOTEV2_confusion_matrix = [[151  70]\n",
      " [  9 135]]\n"
     ]
    }
   ],
   "source": [
    "for key, value in transformed_result.items():\n",
    "    print(f'{key} = {value}')"
   ]
  },
  {
   "cell_type": "markdown",
   "id": "d32bee2d-5c22-4c4f-a54c-a0eb12b0c5ee",
   "metadata": {},
   "source": [
    "Next, some information on the engineered features"
   ]
  },
  {
   "cell_type": "code",
   "execution_count": 15,
   "id": "faba8fb5-fdae-409a-a809-70f892ae1b17",
   "metadata": {},
   "outputs": [],
   "source": [
    "covariance = transformer.get_covariance()\n",
    "explained_variance = transformer.explained_variance_/sum(transformer.explained_variance_)\n",
    "components = transformer.components_[:features_engineered.shape[1], :]\n",
    "contributions = np.abs(components)/np.sum(np.abs(components), axis = 1, keepdims=True)\n",
    "contributions_df = pd.DataFrame(contributions, columns=features_selected.columns, index=[f'PC {i+1} (Variance {explained_variance[i]:.4f})' for i in range(components.shape[0])])\n",
    "contributing_features = [sorted([(contributions_df.columns[i], value) for i, value in enumerate(contributions_df.iloc[j])], key = lambda x:x[1], reverse=True) for j in range(contributions_df.shape[0])]"
   ]
  },
  {
   "cell_type": "code",
   "execution_count": 16,
   "id": "f272fd49-dc16-4528-8d98-a06025d8c5f8",
   "metadata": {},
   "outputs": [
    {
     "data": {
      "image/png": "[encoded data removed]",
      "text/plain": [
       "<Figure size 1000x1500 with 2 Axes>"
      ]
     },
     "metadata": {},
     "output_type": "display_data"
    }
   ],
   "source": [
    "fig, axs = plt.subplots(2, 1, figsize=(10, 15))\n",
    "\n",
    "for i, component in enumerate(contributing_features[:2]):\n",
    "    features = [x[0] for x in component]\n",
    "    values = [x[1] for x in component]\n",
    "\n",
    "    axs[i].bar(features, values)\n",
    "    axs[i].tick_params(axis='x', rotation=90)\n",
    "    axs[i].tick_params(axis='x', labelsize=8)\n",
    "    axs[i].set_title(f'Principal Component {i+1} (Variance relative contribution = {explained_variance[i]:.4f})')\n",
    "    axs[i].set_xlabel('Features used')\n",
    "    axs[i].set_ylabel('Relative contribution of the feature')\n",
    "\n",
    "plt.tight_layout(pad=3)\n",
    "plt.show()"
   ]
  },
  {
   "cell_type": "markdown",
   "id": "cb4d70c5-ed0e-4754-b8dd-bd352151e6f7",
   "metadata": {},
   "source": [
    "It can be noted that: \n",
    "- The two main Principal Components hold more than half of the total variance\n",
    "- Some SMIS macroeconomic indicators (^IXIC, ^GSPC) contribute significantly to the two main Principal Components\n",
    "- Statistics on searched keywords like Amazon and AmazonPrime on Google and Wikipedia also contribute to the two main Principal Components"
   ]
  },
  {
   "cell_type": "code",
   "execution_count": 17,
   "id": "69b205c0-d6a4-4d73-8f3d-a8ec2668335d",
   "metadata": {},
   "outputs": [
    {
     "data": {
      "text/html": [
       "<div>\n",
       "<style scoped>\n",
       "    .dataframe tbody tr th:only-of-type {\n",
       "        vertical-align: middle;\n",
       "    }\n",
       "\n",
       "    .dataframe tbody tr th {\n",
       "        vertical-align: top;\n",
       "    }\n",
       "\n",
       "    .dataframe thead th {\n",
       "        text-align: right;\n",
       "    }\n",
       "</style>\n",
       "<table border=\"1\" class=\"dataframe\">\n",
       "  <thead>\n",
       "    <tr style=\"text-align: right;\">\n",
       "      <th></th>\n",
       "      <th>PC1</th>\n",
       "      <th>PC2</th>\n",
       "      <th>PC3</th>\n",
       "      <th>PC4</th>\n",
       "      <th>PC5</th>\n",
       "      <th>PC6</th>\n",
       "      <th>PC7</th>\n",
       "      <th>PC8</th>\n",
       "      <th>PC9</th>\n",
       "      <th>PC10</th>\n",
       "      <th>Return</th>\n",
       "    </tr>\n",
       "    <tr>\n",
       "      <th>DateTime</th>\n",
       "      <th></th>\n",
       "      <th></th>\n",
       "      <th></th>\n",
       "      <th></th>\n",
       "      <th></th>\n",
       "      <th></th>\n",
       "      <th></th>\n",
       "      <th></th>\n",
       "      <th></th>\n",
       "      <th></th>\n",
       "      <th></th>\n",
       "    </tr>\n",
       "  </thead>\n",
       "  <tbody>\n",
       "    <tr>\n",
       "      <th>2020-04-23</th>\n",
       "      <td>2.623615</td>\n",
       "      <td>1.869681</td>\n",
       "      <td>0.020901</td>\n",
       "      <td>-0.176934</td>\n",
       "      <td>-0.698365</td>\n",
       "      <td>-0.855057</td>\n",
       "      <td>0.782794</td>\n",
       "      <td>-0.544739</td>\n",
       "      <td>1.549235</td>\n",
       "      <td>-0.020355</td>\n",
       "      <td>1.742645</td>\n",
       "    </tr>\n",
       "    <tr>\n",
       "      <th>2020-04-24</th>\n",
       "      <td>2.770338</td>\n",
       "      <td>1.464691</td>\n",
       "      <td>0.333909</td>\n",
       "      <td>-0.377690</td>\n",
       "      <td>-0.630837</td>\n",
       "      <td>-0.998869</td>\n",
       "      <td>0.648527</td>\n",
       "      <td>-0.616773</td>\n",
       "      <td>1.447026</td>\n",
       "      <td>-0.017054</td>\n",
       "      <td>1.642296</td>\n",
       "    </tr>\n",
       "    <tr>\n",
       "      <th>2020-04-25</th>\n",
       "      <td>2.772510</td>\n",
       "      <td>1.388612</td>\n",
       "      <td>0.407513</td>\n",
       "      <td>-0.408383</td>\n",
       "      <td>-0.557904</td>\n",
       "      <td>-1.024427</td>\n",
       "      <td>0.661424</td>\n",
       "      <td>-0.846194</td>\n",
       "      <td>1.212011</td>\n",
       "      <td>-0.166323</td>\n",
       "      <td>1.743833</td>\n",
       "    </tr>\n",
       "    <tr>\n",
       "      <th>2020-04-26</th>\n",
       "      <td>2.795978</td>\n",
       "      <td>1.324662</td>\n",
       "      <td>0.471585</td>\n",
       "      <td>-0.457933</td>\n",
       "      <td>-0.531613</td>\n",
       "      <td>-1.106640</td>\n",
       "      <td>0.630278</td>\n",
       "      <td>-0.889797</td>\n",
       "      <td>1.175245</td>\n",
       "      <td>-0.248712</td>\n",
       "      <td>1.845323</td>\n",
       "    </tr>\n",
       "    <tr>\n",
       "      <th>2020-04-27</th>\n",
       "      <td>2.838219</td>\n",
       "      <td>1.266486</td>\n",
       "      <td>0.487196</td>\n",
       "      <td>-0.557623</td>\n",
       "      <td>-0.519194</td>\n",
       "      <td>-1.250513</td>\n",
       "      <td>0.563581</td>\n",
       "      <td>-0.766687</td>\n",
       "      <td>1.282965</td>\n",
       "      <td>-0.282755</td>\n",
       "      <td>1.946765</td>\n",
       "    </tr>\n",
       "  </tbody>\n",
       "</table>\n",
       "</div>"
      ],
      "text/plain": [
       "                 PC1       PC2       PC3       PC4       PC5       PC6  \\\n",
       "DateTime                                                                 \n",
       "2020-04-23  2.623615  1.869681  0.020901 -0.176934 -0.698365 -0.855057   \n",
       "2020-04-24  2.770338  1.464691  0.333909 -0.377690 -0.630837 -0.998869   \n",
       "2020-04-25  2.772510  1.388612  0.407513 -0.408383 -0.557904 -1.024427   \n",
       "2020-04-26  2.795978  1.324662  0.471585 -0.457933 -0.531613 -1.106640   \n",
       "2020-04-27  2.838219  1.266486  0.487196 -0.557623 -0.519194 -1.250513   \n",
       "\n",
       "                 PC7       PC8       PC9      PC10    Return  \n",
       "DateTime                                                      \n",
       "2020-04-23  0.782794 -0.544739  1.549235 -0.020355  1.742645  \n",
       "2020-04-24  0.648527 -0.616773  1.447026 -0.017054  1.642296  \n",
       "2020-04-25  0.661424 -0.846194  1.212011 -0.166323  1.743833  \n",
       "2020-04-26  0.630278 -0.889797  1.175245 -0.248712  1.845323  \n",
       "2020-04-27  0.563581 -0.766687  1.282965 -0.282755  1.946765  "
      ]
     },
     "execution_count": 17,
     "metadata": {},
     "output_type": "execute_result"
    }
   ],
   "source": [
    "engineered_df.head()"
   ]
  },
  {
   "cell_type": "code",
   "execution_count": 18,
   "id": "e49af8cc-fcc3-409e-8d34-bd1997821d1e",
   "metadata": {},
   "outputs": [
    {
     "data": {
      "text/html": [
       "<div>\n",
       "<style scoped>\n",
       "    .dataframe tbody tr th:only-of-type {\n",
       "        vertical-align: middle;\n",
       "    }\n",
       "\n",
       "    .dataframe tbody tr th {\n",
       "        vertical-align: top;\n",
       "    }\n",
       "\n",
       "    .dataframe thead th {\n",
       "        text-align: right;\n",
       "    }\n",
       "</style>\n",
       "<table border=\"1\" class=\"dataframe\">\n",
       "  <thead>\n",
       "    <tr style=\"text-align: right;\">\n",
       "      <th></th>\n",
       "      <th>PC1</th>\n",
       "      <th>PC2</th>\n",
       "      <th>PC3</th>\n",
       "      <th>PC4</th>\n",
       "      <th>PC5</th>\n",
       "      <th>PC6</th>\n",
       "      <th>PC7</th>\n",
       "      <th>PC8</th>\n",
       "      <th>PC9</th>\n",
       "      <th>PC10</th>\n",
       "      <th>Return</th>\n",
       "    </tr>\n",
       "    <tr>\n",
       "      <th>DateTime</th>\n",
       "      <th></th>\n",
       "      <th></th>\n",
       "      <th></th>\n",
       "      <th></th>\n",
       "      <th></th>\n",
       "      <th></th>\n",
       "      <th></th>\n",
       "      <th></th>\n",
       "      <th></th>\n",
       "      <th></th>\n",
       "      <th></th>\n",
       "    </tr>\n",
       "  </thead>\n",
       "  <tbody>\n",
       "    <tr>\n",
       "      <th>2024-04-12</th>\n",
       "      <td>-0.360594</td>\n",
       "      <td>-1.711654</td>\n",
       "      <td>0.201062</td>\n",
       "      <td>-1.732266</td>\n",
       "      <td>-0.894414</td>\n",
       "      <td>-0.476237</td>\n",
       "      <td>-0.034116</td>\n",
       "      <td>0.280430</td>\n",
       "      <td>-0.368341</td>\n",
       "      <td>-0.064721</td>\n",
       "      <td>-0.940759</td>\n",
       "    </tr>\n",
       "    <tr>\n",
       "      <th>2024-04-13</th>\n",
       "      <td>-0.445342</td>\n",
       "      <td>-1.566084</td>\n",
       "      <td>0.132355</td>\n",
       "      <td>-1.658547</td>\n",
       "      <td>-0.879977</td>\n",
       "      <td>-0.440567</td>\n",
       "      <td>-0.237236</td>\n",
       "      <td>0.134960</td>\n",
       "      <td>-0.387785</td>\n",
       "      <td>-0.067782</td>\n",
       "      <td>-0.663517</td>\n",
       "    </tr>\n",
       "    <tr>\n",
       "      <th>2024-04-14</th>\n",
       "      <td>-0.515824</td>\n",
       "      <td>-1.412389</td>\n",
       "      <td>0.057264</td>\n",
       "      <td>-1.597459</td>\n",
       "      <td>-0.896787</td>\n",
       "      <td>-0.442850</td>\n",
       "      <td>-0.469861</td>\n",
       "      <td>0.113971</td>\n",
       "      <td>-0.274422</td>\n",
       "      <td>-0.026040</td>\n",
       "      <td>-0.382174</td>\n",
       "    </tr>\n",
       "    <tr>\n",
       "      <th>2024-04-15</th>\n",
       "      <td>-0.577480</td>\n",
       "      <td>-1.239385</td>\n",
       "      <td>0.058956</td>\n",
       "      <td>-1.545767</td>\n",
       "      <td>-0.854292</td>\n",
       "      <td>-0.609724</td>\n",
       "      <td>-0.475963</td>\n",
       "      <td>0.246294</td>\n",
       "      <td>-0.085489</td>\n",
       "      <td>-0.068540</td>\n",
       "      <td>-0.096639</td>\n",
       "    </tr>\n",
       "    <tr>\n",
       "      <th>2024-04-16</th>\n",
       "      <td>-0.893060</td>\n",
       "      <td>-0.501281</td>\n",
       "      <td>-0.050785</td>\n",
       "      <td>-1.463771</td>\n",
       "      <td>-0.656652</td>\n",
       "      <td>-1.060251</td>\n",
       "      <td>-0.913030</td>\n",
       "      <td>0.482553</td>\n",
       "      <td>0.399698</td>\n",
       "      <td>-0.776730</td>\n",
       "      <td>0.265571</td>\n",
       "    </tr>\n",
       "  </tbody>\n",
       "</table>\n",
       "</div>"
      ],
      "text/plain": [
       "                 PC1       PC2       PC3       PC4       PC5       PC6  \\\n",
       "DateTime                                                                 \n",
       "2024-04-12 -0.360594 -1.711654  0.201062 -1.732266 -0.894414 -0.476237   \n",
       "2024-04-13 -0.445342 -1.566084  0.132355 -1.658547 -0.879977 -0.440567   \n",
       "2024-04-14 -0.515824 -1.412389  0.057264 -1.597459 -0.896787 -0.442850   \n",
       "2024-04-15 -0.577480 -1.239385  0.058956 -1.545767 -0.854292 -0.609724   \n",
       "2024-04-16 -0.893060 -0.501281 -0.050785 -1.463771 -0.656652 -1.060251   \n",
       "\n",
       "                 PC7       PC8       PC9      PC10    Return  \n",
       "DateTime                                                      \n",
       "2024-04-12 -0.034116  0.280430 -0.368341 -0.064721 -0.940759  \n",
       "2024-04-13 -0.237236  0.134960 -0.387785 -0.067782 -0.663517  \n",
       "2024-04-14 -0.469861  0.113971 -0.274422 -0.026040 -0.382174  \n",
       "2024-04-15 -0.475963  0.246294 -0.085489 -0.068540 -0.096639  \n",
       "2024-04-16 -0.913030  0.482553  0.399698 -0.776730  0.265571  "
      ]
     },
     "execution_count": 18,
     "metadata": {},
     "output_type": "execute_result"
    }
   ],
   "source": [
    "engineered_df.tail()"
   ]
  },
  {
   "cell_type": "markdown",
   "id": "6276d7a3-aaa7-4a77-8184-fb67a0a135dc",
   "metadata": {},
   "source": [
    "Now, the features are fully processed.\n",
    "Next, the hyperparameters of a LSTM model will be tuned using optuna to forecast the stock prices.  \n",
    "First, the arguments necessary for the study will be defined."
   ]
  },
  {
   "cell_type": "markdown",
   "id": "93e19d07-b5ee-4688-9a45-096b4804fc11",
   "metadata": {},
   "source": [
    "Data arguments"
   ]
  },
  {
   "cell_type": "code",
   "execution_count": 19,
   "id": "1531ad07-83d4-4c2d-aaec-825d6f3b7c68",
   "metadata": {},
   "outputs": [
    {
     "ename": "NameError",
     "evalue": "name 'symbol' is not defined",
     "output_type": "error",
     "traceback": [
      "\u001b[1;31m---------------------------------------------------------------------------\u001b[0m",
      "\u001b[1;31mNameError\u001b[0m                                 Traceback (most recent call last)",
      "Cell \u001b[1;32mIn[19], line 5\u001b[0m\n\u001b[0;32m      1\u001b[0m data_args \u001b[38;5;241m=\u001b[39m {\u001b[38;5;124m'\u001b[39m\u001b[38;5;124mfeatures\u001b[39m\u001b[38;5;124m'\u001b[39m: engineered_df,\n\u001b[0;32m      2\u001b[0m              \u001b[38;5;124m'\u001b[39m\u001b[38;5;124mclose\u001b[39m\u001b[38;5;124m'\u001b[39m: close,\n\u001b[0;32m      3\u001b[0m              \u001b[38;5;124m'\u001b[39m\u001b[38;5;124mf_scaler\u001b[39m\u001b[38;5;124m'\u001b[39m: data_scaler,\n\u001b[0;32m      4\u001b[0m              \u001b[38;5;124m'\u001b[39m\u001b[38;5;124mt_scaler\u001b[39m\u001b[38;5;124m'\u001b[39m: target_scaler,\n\u001b[1;32m----> 5\u001b[0m              \u001b[38;5;124m'\u001b[39m\u001b[38;5;124msymbol\u001b[39m\u001b[38;5;124m'\u001b[39m: symbol}\n",
      "\u001b[1;31mNameError\u001b[0m: name 'symbol' is not defined"
     ]
    }
   ],
   "source": [
    "data_args = {'features': engineered_df,\n",
    "             'close': close,\n",
    "             'f_scaler': data_scaler,\n",
    "             't_scaler': target_scaler,\n",
    "             'symbol': stock_name}"
   ]
  },
  {
   "cell_type": "markdown",
   "id": "19453184-558f-462f-b35a-0e8428b2a493",
   "metadata": {},
   "source": [
    "Temporal arguments"
   ]
  },
  {
   "cell_type": "code",
   "execution_count": null,
   "id": "a5c6667f-bfd1-4df1-99df-849227421515",
   "metadata": {},
   "outputs": [],
   "source": [
    "start_date = pd.to_datetime('2023-03-01')\n",
    "end_date = pd.to_datetime('2023-12-31')\n",
    "temporal_args = {'start_date': start_date,\n",
    "                 'end_date': end_date,\n",
    "                 'horizon': horizon,\n",
    "                 'plot_start_date': pd.to_datetime('2023-01-01')}"
   ]
  },
  {
   "cell_type": "markdown",
   "id": "ebdd7b59-70f5-40ec-af4d-381d147d146c",
   "metadata": {},
   "source": [
    "Model choice (LSTM) and default model parameters"
   ]
  },
  {
   "cell_type": "code",
   "execution_count": null,
   "id": "c6ae0e6c-44bd-4527-91a1-1c96386935af",
   "metadata": {},
   "outputs": [],
   "source": [
    "predictor_name = 'LSTM'\n",
    "model_args = {'seq_len': 30,\n",
    "              'learning_rate': 0.001,\n",
    "              'loss': 'mse',\n",
    "              'n_a': 16,\n",
    "              'dropout': 0.05,\n",
    "              'stateful_training': False,\n",
    "              'stateful_inference': False,\n",
    "              'horizon': horizon}"
   ]
  },
  {
   "cell_type": "markdown",
   "id": "02d27b8b-b073-42a3-96fe-d83679c68726",
   "metadata": {},
   "source": [
    "Training parameters"
   ]
  },
  {
   "cell_type": "code",
   "execution_count": null,
   "id": "46960e94-6f6b-48ad-b434-9289f72b11b7",
   "metadata": {},
   "outputs": [],
   "source": [
    "training_args = {'epochs': 100,\n",
    "                 'batch_size': 32,\n",
    "                 'shuffle': False,\n",
    "                 'verbose': 0}"
   ]
  },
  {
   "cell_type": "markdown",
   "id": "3450b96e-ff1d-48a9-89b7-63ba059859fe",
   "metadata": {},
   "source": [
    "Trading parameters (for the simulation)"
   ]
  },
  {
   "cell_type": "code",
   "execution_count": null,
   "id": "6cfc2b91-64a6-4b85-ae9c-68ca8be8227d",
   "metadata": {},
   "outputs": [],
   "source": [
    "initial_stock = 1\n",
    "max_trade = 1\n",
    "intensity = 3 # Price variation by 1/intensity results in trading max_trade\n",
    "min_rate = 0.001 # Minimum daily rate of relative price change to trigger trading action\n",
    "trading_args = {'initial_stock': initial_stock,\n",
    "                'max_trade': max_trade,\n",
    "                'intensity': intensity,\n",
    "                'min_delta': min_rate*horizon}"
   ]
  },
  {
   "cell_type": "markdown",
   "id": "4ecdea17-2583-4947-bac2-342a86ec7078",
   "metadata": {},
   "source": [
    "Creating an optuna study (hyperparameter search)"
   ]
  },
  {
   "cell_type": "code",
   "execution_count": null,
   "id": "e83692a1-5713-45bb-820f-c61f369b8ea5",
   "metadata": {},
   "outputs": [],
   "source": [
    "hyperparameter_search = True\n",
    "num_trials = 50 # If the study already exists, it will be continued with {num_trials} new trials\n",
    "if hyperparameter_search:\n",
    "    study_name = f'{symbol}_LSTM_ahead={horizon}'\n",
    "    storage_name = 'tuning_LSTM'\n",
    "    # Define the study storage method\n",
    "    storage = JournalStorage(JournalFileStorage(f\"src/tuning/{storage_name}.log\"))\n",
    "    # Pack the arguments\n",
    "    args = (model_args, data_args, temporal_args, training_args, trading_args)\n",
    "    # Launch the search\n",
    "    study = optuna_search(num_trials,\n",
    "                          storage,\n",
    "                          study_name,\n",
    "                          args,\n",
    "                          na_range = (1, 128),\n",
    "                          lr_range = (0.00001, 0.01),\n",
    "                          seq_len_range = (1, 120),\n",
    "                          dropout_range = (0, 0.4)\n",
    "                          )"
   ]
  },
  {
   "cell_type": "markdown",
   "id": "46d748c0-0d0f-4ca9-b500-4631ccb96f6f",
   "metadata": {},
   "source": [
    "Information about the study's best trial and retrieval of best model hyperparameters"
   ]
  },
  {
   "cell_type": "code",
   "execution_count": null,
   "id": "5540f3f4-5da2-40e6-ae19-37e661b4e647",
   "metadata": {},
   "outputs": [],
   "source": [
    "# Print the best trial, its performance metric and its parameters\n",
    "best_trial = study.best_trial\n",
    "print(\"\\nNumber of finished trials: %s\"%len(study.trials))\n",
    "print(f\"\\nBest trial: {best_trial}\")\n",
    "print(\"  MSE: \", best_trial.value)\n",
    "print(\"  Params: \")\n",
    "for key, value in best_trial.params.items():\n",
    "    print(f\"    {key}: {value}\")\n",
    "\n",
    "# Get the best parameters\n",
    "model_args['n_a'] = best_trial.params['n_a']\n",
    "model_args['learning_rate'] = best_trial.params['learning_rate']\n",
    "model_args['seq_len'] = best_trial.params['seq_len']\n",
    "model_args['dropout'] = best_trial.params['dropout']"
   ]
  },
  {
   "cell_type": "markdown",
   "id": "056a974c-122b-4d2a-a64d-2c70f17c6016",
   "metadata": {},
   "source": [
    "Run the optuna dashboard to visualize the study results"
   ]
  },
  {
   "cell_type": "code",
   "execution_count": null,
   "id": "b6662a0f-3d64-4f70-8e88-90baee83c36d",
   "metadata": {},
   "outputs": [],
   "source": [
    "# optuna_dashboard.run_server(storage)"
   ]
  },
  {
   "cell_type": "markdown",
   "id": "41320c31-9e69-455f-9f22-f6dad82b6bdc",
   "metadata": {},
   "source": [
    "Test the tuned model on the test set"
   ]
  },
  {
   "cell_type": "code",
   "execution_count": null,
   "id": "806bef45-cd16-44b0-9d38-2a85839d13a0",
   "metadata": {},
   "outputs": [],
   "source": [
    "test = False\n",
    "if test:\n",
    "    ## Set the temporal parameters (Should define the test set)\n",
    "    start_date = pd.to_datetime('2024-01-01')\n",
    "    end_date = pd.to_datetime('2024-04-30')\n",
    "    temporal_args = {'start_date': start_date,\n",
    "                     'end_date': end_date,\n",
    "                     'horizon': horizon}\n",
    "    \n",
    "    ## Create a forecaster object\n",
    "    clairvoyant = forecaster(predictor_name,\n",
    "                             model_args)\n",
    "    \n",
    "    ## Create a recommender object\n",
    "    recommend = recommender(oracle = clairvoyant,\n",
    "                            trading_args = trading_args)\n",
    "    \n",
    "    \n",
    "    ### Simulate forecasting and recommendations\n",
    "    recommend(data_args,\n",
    "              temporal_args,\n",
    "              training_args) # performs the recommendation"
   ]
  }
 ],
 "metadata": {
  "kernelspec": {
   "display_name": "Python 3 (ipykernel)",
   "language": "python",
   "name": "python3"
  },
  "language_info": {
   "codemirror_mode": {
    "name": "ipython",
    "version": 3
   },
   "file_extension": ".py",
   "mimetype": "text/x-python",
   "name": "python",
   "nbconvert_exporter": "python",
   "pygments_lexer": "ipython3",
   "version": "3.11.7"
  }
 },
 "nbformat": 4,
 "nbformat_minor": 5
}
